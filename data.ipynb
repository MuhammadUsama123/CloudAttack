{
 "cells": [
  {
   "cell_type": "code",
   "execution_count": 4,
   "id": "235b7865-d2a5-4360-932f-f954dd19288b",
   "metadata": {},
   "outputs": [
    {
     "name": "stdout",
     "output_type": "stream",
     "text": [
      "Keys: ['data', 'label_names', 'labels', 'performance_metrics']\n",
      "b'              precision    recall  f1-score   support\\n\\n           0       0.54      0.75      0.62      5412\\n           1       0.83      0.93      0.88      4416\\n           2       0.33      0.02      0.03      2051\\n           3       0.41      0.52      0.46      3311\\n           4       0.41      0.31      0.36      1188\\n           5       0.00      0.00      0.00       121\\n           6       0.00      0.00      0.00        11\\n           7       0.00      0.00      0.00         3\\n           8       0.00      0.00      0.00         3\\n           9       0.87      0.64      0.74      3180\\n          10       0.00      0.00      0.00         8\\n          11       1.00      0.00      0.01       279\\n          12       0.00      0.00      0.00         5\\n          13       0.00      0.00      0.00       121\\n\\n    accuracy                           0.61     20109\\n   macro avg       0.31      0.23      0.22     20109\\nweighted avg       0.60      0.61      0.58     20109\\n'\n"
     ]
    }
   ],
   "source": [
    "import h5py\n",
    "\n",
    "# Path to your H5 file\n",
    "file_path = 'C:/Users/muham/OneDrive/Desktop/Cloud_Attack/cloud_attack_data.h5'\n",
    "\n",
    "# Open the file in read-only mode\n",
    "with h5py.File(file_path, 'r') as file:\n",
    "    # List all groups\n",
    "    print(\"Keys: %s\" % list(file.keys()))\n",
    "    if 'performance_metrics' in file:\n",
    "        data = file['performance_metrics'][()]\n",
    "        print(data)\n"
   ]
  },
  {
   "cell_type": "code",
   "execution_count": null,
   "id": "8d69890b-6082-42d6-91df-9e2529cb1688",
   "metadata": {},
   "outputs": [],
   "source": []
  }
 ],
 "metadata": {
  "kernelspec": {
   "display_name": "Python 3 (ipykernel)",
   "language": "python",
   "name": "python3"
  },
  "language_info": {
   "codemirror_mode": {
    "name": "ipython",
    "version": 3
   },
   "file_extension": ".py",
   "mimetype": "text/x-python",
   "name": "python",
   "nbconvert_exporter": "python",
   "pygments_lexer": "ipython3",
   "version": "3.11.5"
  }
 },
 "nbformat": 4,
 "nbformat_minor": 5
}
